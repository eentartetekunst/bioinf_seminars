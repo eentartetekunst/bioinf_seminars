{
 "cells": [
  {
   "cell_type": "code",
   "execution_count": 24,
   "id": "dcc7f847",
   "metadata": {},
   "outputs": [
    {
     "name": "stdout",
     "output_type": "stream",
     "text": [
      "Requirement already satisfied: sklearn in /usr/local/lib/python3.9/site-packages (0.0)\n",
      "Requirement already satisfied: scikit-learn in /usr/local/lib/python3.9/site-packages (from sklearn) (0.24.2)\n",
      "Requirement already satisfied: threadpoolctl>=2.0.0 in /usr/local/lib/python3.9/site-packages (from scikit-learn->sklearn) (2.1.0)\n",
      "Requirement already satisfied: joblib>=0.11 in /usr/local/lib/python3.9/site-packages (from scikit-learn->sklearn) (1.0.1)\n",
      "Requirement already satisfied: scipy>=0.19.1 in /usr/local/lib/python3.9/site-packages (from scikit-learn->sklearn) (1.6.0)\n",
      "Requirement already satisfied: numpy>=1.13.3 in /usr/local/lib/python3.9/site-packages (from scikit-learn->sklearn) (1.20.1)\n",
      "\u001b[33mWARNING: You are using pip version 21.0.1; however, version 21.1.1 is available.\n",
      "You should consider upgrading via the '/usr/local/opt/python@3.9/bin/python3.9 -m pip install --upgrade pip' command.\u001b[0m\n",
      "Note: you may need to restart the kernel to use updated packages.\n"
     ]
    }
   ],
   "source": [
    "pip install sklearn"
   ]
  },
  {
   "cell_type": "code",
   "execution_count": 120,
   "id": "af192ec0",
   "metadata": {},
   "outputs": [
    {
     "data": {
      "text/plain": [
       "'\\nX, y = load_iris(return_X_y=True)\\n\\n#sklearn.metrics.accuracy_score оценка качества\\n# аргумент ждя взвешивания точек относительно расстояния weights=\"distance\"\\n\\nX_train, X_test, y_train, y_test = train_test_split(X, y, stratify=y, test_size=0.2, random_state=2)\\n\\n\\nscaler = StandardScaler()\\nscaler.fit(X_train, y_train)\\n# скейлер фитится по обуч выборке, дисперсия берется из нее\\nX_train = scaler.transform(X_train)\\nX_test = scaler.transform(X_test)\\n# нормирование тестовых идет по дисперсии трейна\\n\\n\\nmodel = Pipeline([\\n    (\\'scaler\\', StandardScaler()),\\n    (\\'clf\\',KNeighborsClassifier(n_neighbors=5, weights=\\'distance\\', p=1))\\n])    \\n    \\n# n_neighbors - k, \\nmodel.fit(X, y)\\n\\ny_pred = model.predict(X_test)\\nprint(accuracy_score(y_pred,y_test)'"
      ]
     },
     "execution_count": 120,
     "metadata": {},
     "output_type": "execute_result"
    }
   ],
   "source": [
    "import sklearn\n",
    "import numpy as np\n",
    "import pandas as pd\n",
    "\n",
    "from sklearn.datasets import *\n",
    "from sklearn.neighbors import KNeighborsClassifier\n",
    "from sklearn.model_selection import train_test_split, cross_val_score, RepeatedStratifiedKFold, GridSearchCV \n",
    "from sklearn.metrics import accuracy_score, make_scorer\n",
    "from sklearn.pipeline import Pipeline\n",
    "from sklearn.preprocessing import StandardScaler\n",
    "\n",
    "\"\"\"\n",
    "X, y = load_iris(return_X_y=True)\n",
    "\n",
    "#sklearn.metrics.accuracy_score оценка качества\n",
    "# аргумент ждя взвешивания точек относительно расстояния weights=\"distance\"\n",
    "\n",
    "X_train, X_test, y_train, y_test = train_test_split(X, y, stratify=y, test_size=0.2, random_state=2)\n",
    "\n",
    "\n",
    "scaler = StandardScaler()\n",
    "scaler.fit(X_train, y_train)\n",
    "# скейлер фитится по обуч выборке, дисперсия берется из нее\n",
    "X_train = scaler.transform(X_train)\n",
    "X_test = scaler.transform(X_test)\n",
    "# нормирование тестовых идет по дисперсии трейна\n",
    "\n",
    "\n",
    "model = Pipeline([\n",
    "    ('scaler', StandardScaler()),\n",
    "    ('clf',KNeighborsClassifier(n_neighbors=5, weights='distance', p=1))\n",
    "])    \n",
    "    \n",
    "# n_neighbors - k, \n",
    "model.fit(X, y)\n",
    "\n",
    "y_pred = model.predict(X_test)\n",
    "print(accuracy_score(y_pred,y_test)\"\"\""
   ]
  },
  {
   "cell_type": "code",
   "execution_count": null,
   "id": "2530446a",
   "metadata": {},
   "outputs": [],
   "source": []
  },
  {
   "cell_type": "code",
   "execution_count": 77,
   "id": "2a5ab0d9",
   "metadata": {},
   "outputs": [],
   "source": [
    "#print(np.sum(y_pred==y_test)/len(y_test))\n",
    "# sum of True and False = sum.True\n",
    "# accuracy -- кустарный способ :-)\n",
    "# p  задает метрику р=1 манхетенская L1, р=2 евклидова, \n",
    "# pickle модуль чтобы сохранить любое говно"
   ]
  },
  {
   "cell_type": "code",
   "execution_count": 78,
   "id": "d90e1d51",
   "metadata": {},
   "outputs": [],
   "source": [
    "# гиперпараметры - гавно, при которой макс качество модели\n",
    "# метрики надо зачем-то обернуть в мейк_скорер"
   ]
  },
  {
   "cell_type": "code",
   "execution_count": 121,
   "id": "fb202bf7",
   "metadata": {},
   "outputs": [
    {
     "data": {
      "text/plain": [
       "'#  много раз делим на трейн и тест:\\naccuracy = cross_val_score(\\n    model, X, y,\\n    scoring=make_scorer(accuracy_score)\\n    cv=RepeatedStratifiedKFold(n_repeats=100)\\n)'"
      ]
     },
     "execution_count": 121,
     "metadata": {},
     "output_type": "execute_result"
    }
   ],
   "source": [
    "\"\"\"#  много раз делим на трейн и тест:\n",
    "accuracy = cross_val_score(\n",
    "    model, X, y,\n",
    "    scoring=make_scorer(accuracy_score)\n",
    "    cv=RepeatedStratifiedKFold(n_repeats=100)\n",
    ")\"\"\""
   ]
  },
  {
   "cell_type": "code",
   "execution_count": 122,
   "id": "5ed9feaf",
   "metadata": {},
   "outputs": [
    {
     "data": {
      "text/plain": [
       "\"# по сетке ищем параметры и выбираем автоматом\\n# в дикт пишем, какие параметры перебирать и с какими значениями\\nparams = {\\n    'clf__n_neighbors':[1,3,4,6],\\n    'clf__weighs':['uniform', 'distance'],\\n    'clf__p':[1,2]\\n}\\n\\ncv = GridSearchCV(\\n    model, params,\\n    scoring=make_scorer(accuracy_score),\\n    cv=RepeatedStratifiedKFold(n_repeats=100)\\n)\\n\\ncv.fit(X,y)\\nprint(cv.best_params, cv.best_score)\""
      ]
     },
     "execution_count": 122,
     "metadata": {},
     "output_type": "execute_result"
    }
   ],
   "source": [
    "\"\"\"# по сетке ищем параметры и выбираем автоматом\n",
    "# в дикт пишем, какие параметры перебирать и с какими значениями\n",
    "params = {\n",
    "    'clf__n_neighbors':[1,3,4,6],\n",
    "    'clf__weighs':['uniform', 'distance'],\n",
    "    'clf__p':[1,2]\n",
    "}\n",
    "\n",
    "cv = GridSearchCV(\n",
    "    model, params,\n",
    "    scoring=make_scorer(accuracy_score),\n",
    "    cv=RepeatedStratifiedKFold(n_repeats=100)\n",
    ")\n",
    "\n",
    "cv.fit(X,y)\n",
    "print(cv.best_params, cv.best_score)\"\"\""
   ]
  },
  {
   "cell_type": "code",
   "execution_count": null,
   "id": "6aa8db39",
   "metadata": {},
   "outputs": [],
   "source": []
  },
  {
   "cell_type": "markdown",
   "id": "09350422",
   "metadata": {},
   "source": [
    "### **Применить метод𝑘ближайших соседей (n_neighbors=1, p=2) кзадаче предсказания молекулярного подтипа РМЖ(BRCA_pam50.tsv). Обучающую и тестовую выборку определить спомощью функции train_test_split(X, y, test_size=0.2, stratify=y,random_state=17). Найти общую точность классификации.**"
   ]
  },
  {
   "cell_type": "code",
   "execution_count": 141,
   "id": "f3d47a81",
   "metadata": {},
   "outputs": [
    {
     "name": "stdout",
     "output_type": "stream",
     "text": [
      "0.8743169398907104\n"
     ]
    }
   ],
   "source": [
    "df  = pd.read_csv('https://raw.githubusercontent.com/s-a-nersisyan/HSE_bioinformatics_2021/master/seminar15/BRCA_pam50.tsv', sep='\\t', index_col = 0)\n",
    "X = df.iloc[:, :-1].to_numpy()\n",
    "y = df[\"Subtype\"].to_numpy()\n",
    "X_train, X_test, y_train, y_test = train_test_split(X, y, stratify=y, test_size=0.2, random_state=17)\n",
    "\n",
    "\n",
    "model = Pipeline([\n",
    "    (\"clf\", KNeighborsClassifier(n_neighbors=1, p=2))\n",
    "])\n",
    "\n",
    "\n",
    "model.fit(X_train, y_train)\n",
    "\n",
    "y_pred = model.predict(X_test)\n",
    "print(accuracy_score(y_pred, y_test))"
   ]
  },
  {
   "cell_type": "markdown",
   "id": "10e68d62",
   "metadata": {},
   "source": [
    "### **Используя массивы y_test и y_pred, полученные в задаче 1,посчитать точность предсказаний для каждого из шести классов(отношения числа правильно угаданных объектов из класса кобщему числу объектов из класса). Сравнить полученные значенияс общей точностью, интерпретировать результат.**"
   ]
  },
  {
   "cell_type": "code",
   "execution_count": 148,
   "id": "3861f878",
   "metadata": {},
   "outputs": [],
   "source": [
    "y_test_list = y_test.tolist()"
   ]
  },
  {
   "cell_type": "code",
   "execution_count": 151,
   "id": "2a4792e8",
   "metadata": {},
   "outputs": [
    {
     "name": "stdout",
     "output_type": "stream",
     "text": [
      "Luminal B 0.9459459459459459\n",
      "Luminal A 0.8170731707317073\n",
      "Normal-like 0.75\n",
      "Triple-negative 1.0\n",
      "HER2-enriched 1.0\n",
      "Healthy 0.9\n"
     ]
    }
   ],
   "source": [
    "classes = set(y_test)\n",
    "for cl in classes:\n",
    "    cur_score=0\n",
    "    for i in range(len(y_test)):\n",
    "        if (y_test[i]==y_pred[i]) and (y_test[i] == cl):\n",
    "            cur_score +=1\n",
    "            \n",
    "    cl_score = cur_score/y_test_list.count(cl)\n",
    "    print(cl, cl_score)\n"
   ]
  },
  {
   "cell_type": "code",
   "execution_count": null,
   "id": "0529406b",
   "metadata": {},
   "outputs": [],
   "source": []
  },
  {
   "cell_type": "code",
   "execution_count": null,
   "id": "7cef4952",
   "metadata": {},
   "outputs": [],
   "source": []
  },
  {
   "cell_type": "markdown",
   "id": "70c81e2d",
   "metadata": {},
   "source": [
    "### **Применить метод ближайших центроидов(sklearn.neighbors.NearestCentroid) к задаче 1. Насколько изменитсяобщая точность и точность по каждому классу?**"
   ]
  },
  {
   "cell_type": "code",
   "execution_count": 145,
   "id": "41e5a187",
   "metadata": {},
   "outputs": [],
   "source": [
    "from sklearn.neighbors import NearestCentroid"
   ]
  },
  {
   "cell_type": "code",
   "execution_count": 146,
   "id": "fc700f94",
   "metadata": {},
   "outputs": [
    {
     "name": "stdout",
     "output_type": "stream",
     "text": [
      "0.8907103825136612\n"
     ]
    }
   ],
   "source": [
    "df  = pd.read_csv('https://raw.githubusercontent.com/s-a-nersisyan/HSE_bioinformatics_2021/master/seminar15/BRCA_pam50.tsv', sep='\\t', index_col = 0)\n",
    "X = df.iloc[:, :-1].to_numpy()\n",
    "y = df[\"Subtype\"].to_numpy()\n",
    "\n",
    "X_train, X_test, y_train, y_test = train_test_split(X, y, stratify=y, test_size=0.2, random_state=17)\n",
    "model = Pipeline([\n",
    "    (\"clf\", NearestCentroid(metric='euclidean', shrink_threshold=None))\n",
    "])\n",
    "model.fit(X_train, y_train)\n",
    "\n",
    "y_pred = model.predict(X_test)\n",
    "print(accuracy_score(y_pred, y_test))"
   ]
  },
  {
   "cell_type": "code",
   "execution_count": 140,
   "id": "de323ce3",
   "metadata": {},
   "outputs": [],
   "source": [
    "y_pred1 =y_pred.tolist()"
   ]
  },
  {
   "cell_type": "code",
   "execution_count": 133,
   "id": "d72ee4b1",
   "metadata": {},
   "outputs": [
    {
     "name": "stdout",
     "output_type": "stream",
     "text": [
      "Luminal B 0.7954545454545454\n",
      "Luminal A 0.9571428571428572\n",
      "Normal-like 0.3333333333333333\n",
      "Triple-negative 1.0\n",
      "HER2-enriched 0.9285714285714286\n",
      "Healthy 0.9473684210526315\n"
     ]
    }
   ],
   "source": [
    "classes = set(y_test)\n",
    "for cl in classes:\n",
    "    cur_score=0\n",
    "    for i in range(len(y_test)):\n",
    "        if y_test[i]==y_pred[i] and y_test[i] == cl:\n",
    "            cur_score +=1\n",
    "    cl_score = cur_score/y_pred1.count(cl)\n",
    "    print(cl, cl_score)"
   ]
  },
  {
   "cell_type": "code",
   "execution_count": null,
   "id": "a4acef40",
   "metadata": {},
   "outputs": [],
   "source": []
  },
  {
   "cell_type": "markdown",
   "id": "374ef6a2",
   "metadata": {},
   "source": []
  },
  {
   "cell_type": "code",
   "execution_count": null,
   "id": "045d9168",
   "metadata": {},
   "outputs": [],
   "source": []
  },
  {
   "cell_type": "code",
   "execution_count": null,
   "id": "cee6a0a9",
   "metadata": {},
   "outputs": [],
   "source": []
  },
  {
   "cell_type": "code",
   "execution_count": null,
   "id": "8918fcb4",
   "metadata": {},
   "outputs": [],
   "source": []
  },
  {
   "cell_type": "markdown",
   "id": "52d3da33",
   "metadata": {},
   "source": []
  },
  {
   "cell_type": "code",
   "execution_count": null,
   "id": "228f8154",
   "metadata": {},
   "outputs": [],
   "source": []
  }
 ],
 "metadata": {
  "kernelspec": {
   "display_name": "Python 3",
   "language": "python",
   "name": "python3"
  },
  "language_info": {
   "codemirror_mode": {
    "name": "ipython",
    "version": 3
   },
   "file_extension": ".py",
   "mimetype": "text/x-python",
   "name": "python",
   "nbconvert_exporter": "python",
   "pygments_lexer": "ipython3",
   "version": "3.9.2"
  }
 },
 "nbformat": 4,
 "nbformat_minor": 5
}
